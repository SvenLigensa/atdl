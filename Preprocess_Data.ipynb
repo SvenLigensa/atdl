{
 "cells": [
  {
   "cell_type": "code",
   "execution_count": null,
   "id": "be518c5c-2c0e-4fd7-b14f-a5aef67bb225",
   "metadata": {},
   "outputs": [],
   "source": [
    "# Import libraries\n",
    "import sys\n",
    "import os\n",
    "import numpy as np\n",
    "import rasterio\n",
    "from rasterio.windows import Window\n",
    "from rasterio.plot import show\n",
    "import matplotlib.pyplot as plt"
   ]
  },
  {
   "cell_type": "code",
   "execution_count": null,
   "id": "1b4be092-897c-4e96-9daf-99eeebc2ed9e",
   "metadata": {},
   "outputs": [],
   "source": [
    "RAW_DATA_DIRECTORY = '/home/jovyan/work/satellite_data/2022/2022/'\n",
    "PREPROCESSED_DATA_DIRECTORY = './data'"
   ]
  },
  {
   "cell_type": "code",
   "execution_count": null,
   "id": "b45f0bcf-e643-4c13-8c7d-aa162def1122",
   "metadata": {},
   "outputs": [],
   "source": [
    "raw_data = os.listdir(RAW_DATA_DIRECTORY)\n",
    "first_100_raw_data = raw_data[:100]\n",
    "print(len(first_100_raw_data))"
   ]
  },
  {
   "cell_type": "code",
   "execution_count": null,
   "id": "73ca680d-bde4-4dbe-9aa5-3b6c3e028954",
   "metadata": {},
   "outputs": [],
   "source": [
    "def preprocess(file, index):\n",
    "    \"\"\"\n",
    "        file: Path to file containing image data\n",
    "        index: Index to store file\n",
    "    \"\"\"\n",
    "    \n",
    "    with rasterio.open(os.path.join(RAW_DATA_DIRECTORY, file)) as dataset:\n",
    "        num_bands = dataset.count\n",
    "        band = []\n",
    "\n",
    "        # Reading RGB bands\n",
    "        for i in range(num_bands):\n",
    "            band.append(dataset.read(i+1))\n",
    "\n",
    "        rgb = np.dstack((band[0], band[1], band[2]))\n",
    "        plt.figure(figsize=(50, 50))\n",
    "        plt.imshow(rgb)\n",
    "        plt.title('RGB')\n",
    "        plt.axis('off')\n",
    "        preprocessed_path = os.path.join(PREPROCESSED_DATA_DIRECTORY, f'{file}_preprocessed_{index}.png')\n",
    "        plt.savefig(preprocessed_path)\n",
    "        print(f\"Saved file {preprocessed_path}\")\n",
    "        plt.close()\n",
    "        # plt.show()"
   ]
  },
  {
   "cell_type": "code",
   "execution_count": null,
   "id": "c1e8463a-c0a1-470b-939c-e8f2aefe6d34",
   "metadata": {},
   "outputs": [],
   "source": [
    "for index, file in enumerate(first_100_raw_data):\n",
    "    print(file, index)\n",
    "    preprocess(file, index)"
   ]
  }
 ],
 "metadata": {
  "kernelspec": {
   "display_name": "Python 3 (ipykernel)",
   "language": "python",
   "name": "python3"
  },
  "language_info": {
   "codemirror_mode": {
    "name": "ipython",
    "version": 3
   },
   "file_extension": ".py",
   "mimetype": "text/x-python",
   "name": "python",
   "nbconvert_exporter": "python",
   "pygments_lexer": "ipython3",
   "version": "3.8.10"
  }
 },
 "nbformat": 4,
 "nbformat_minor": 5
}
